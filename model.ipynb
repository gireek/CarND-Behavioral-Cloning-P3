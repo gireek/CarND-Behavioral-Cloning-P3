{
 "cells": [
  {
   "cell_type": "code",
   "execution_count": 1,
   "metadata": {},
   "outputs": [],
   "source": [
    "import csv\n",
    "\n",
    "lines = []\n",
    "with open(\"./data/driving_log.csv\") as file:\n",
    "    reader = csv.reader(file)\n",
    "    for line in reader:\n",
    "        lines.append(line)\n",
    "        \n",
    "#ignore the first row with column headings --> center,left,right,steering,throttle,brake,speed\n",
    "lines = lines[1:]"
   ]
  },
  {
   "cell_type": "code",
   "execution_count": 2,
   "metadata": {},
   "outputs": [],
   "source": [
    "import cv2\n",
    "import numpy as np\n",
    "\n",
    "images = []\n",
    "steer = []\n",
    "for _ in lines:\n",
    "    image = cv2.imread(\"./data/\" + _[0])\n",
    "    images.append(image)\n",
    "    ste = float(_[3])\n",
    "    steer.append(ste)\n",
    "    \n",
    "x_train = np.array(images)\n",
    "y_train = np.array(steer)"
   ]
  },
  {
   "cell_type": "code",
   "execution_count": null,
   "metadata": {},
   "outputs": [
    {
     "name": "stdout",
     "output_type": "stream",
     "text": [
      "Train on 7232 samples, validate on 804 samples\n",
      "Epoch 1/100\n",
      " 256/7232 [>.............................] - ETA: 5813s - loss: 0.0390"
     ]
    }
   ],
   "source": [
    "from keras.models import Sequential\n",
    "from keras.layers import Flatten , Dense , Lambda , Convolution2D , Dropout , Activation\n",
    "from keras.callbacks import ModelCheckpoint\n",
    "from keras.callbacks import EarlyStopping\n",
    "from keras.layers.pooling import MaxPooling2D\n",
    "\n",
    "\n",
    "model = Sequential()\n",
    "model.add(Lambda(lambda x: x/255.0 -0.5 , input_shape=(160 , 320 ,3 )))\n",
    "# model.add(Flatten())\n",
    "\n",
    "model.add(Convolution2D(32, 3, 3, input_shape=(160, 320, 3)))\n",
    "model.add(MaxPooling2D((2, 2)))\n",
    "model.add(Dropout(0.5))\n",
    "model.add(Activation('relu'))\n",
    "model.add(Flatten())\n",
    "model.add(Dense(128))\n",
    "model.add(Activation('relu'))\n",
    "\n",
    "model.add(Dense(1))\n",
    "\n",
    "model.compile(loss = 'mse' , optimizer='adam')\n",
    "# model.fit(x_train , y_train , validation_split=0.1 , shuffle=True , nb_epoch=12)\n",
    "# model.save('model.h5')\n",
    "\n",
    "filepath=\"model.h5\"\n",
    "checkpoint = ModelCheckpoint(filepath, monitor='val_loss', verbose=1, save_best_only=True, mode='min')\n",
    "early_stop = EarlyStopping(monitor='val_loss', patience=3, mode='min') \n",
    "callbacks_list = [checkpoint, early_stop]\n",
    "model.fit(x_train, y_train,  validation_split=0.1 , nb_epoch=100, callbacks=callbacks_list ,batch_size=256)"
   ]
  },
  {
   "cell_type": "code",
   "execution_count": null,
   "metadata": {},
   "outputs": [],
   "source": []
  }
 ],
 "metadata": {
  "kernelspec": {
   "display_name": "Python [conda env:carnd-term1]",
   "language": "python",
   "name": "conda-env-carnd-term1-py"
  },
  "language_info": {
   "codemirror_mode": {
    "name": "ipython",
    "version": 3
   },
   "file_extension": ".py",
   "mimetype": "text/x-python",
   "name": "python",
   "nbconvert_exporter": "python",
   "pygments_lexer": "ipython3",
   "version": "3.5.2"
  },
  "widgets": {
   "state": {},
   "version": "1.1.2"
  }
 },
 "nbformat": 4,
 "nbformat_minor": 2
}
